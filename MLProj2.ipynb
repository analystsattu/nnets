{
  "nbformat": 4,
  "nbformat_minor": 0,
  "metadata": {
    "kernelspec": {
      "name": "python3",
      "display_name": "Python 3"
    },
    "language_info": {
      "codemirror_mode": {
        "name": "ipython",
        "version": 3
      },
      "file_extension": ".py",
      "mimetype": "text/x-python",
      "name": "python",
      "nbconvert_exporter": "python",
      "pygments_lexer": "ipython3",
      "version": "3.6.5"
    },
    "colab": {
      "name": "MLProj2.ipynb",
      "provenance": [],
      "collapsed_sections": []
    },
    "accelerator": "GPU"
  },
  "cells": [
    {
      "cell_type": "code",
      "metadata": {
        "id": "FZMfLZx1LaRC",
        "colab_type": "code",
        "outputId": "caaff8cc-d8ca-4c30-cd53-02eafc8eeb84",
        "colab": {
          "resources": {
            "http://localhost:8080/nbextensions/google.colab/files.js": {
              "data": "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",
              "ok": true,
              "headers": [
                [
                  "content-type",
                  "application/javascript"
                ]
              ],
              "status": 200,
              "status_text": "OK"
            }
          },
          "base_uri": "https://localhost:8080/",
          "height": 176
        }
      },
      "source": [
        "from google.colab import files\n",
        "import numpy as np\n",
        "from sklearn.model_selection import train_test_split\n",
        "from sklearn.preprocessing import OneHotEncoder\n",
        "from sklearn.metrics import accuracy_score\n",
        "uploaded = files.upload()"
      ],
      "execution_count": 3,
      "outputs": [
        {
          "output_type": "display_data",
          "data": {
            "text/html": [
              "\n",
              "     <input type=\"file\" id=\"files-7b5917ac-5110-477b-b1ed-d2fe30c5bdd7\" name=\"files[]\" multiple disabled />\n",
              "     <output id=\"result-7b5917ac-5110-477b-b1ed-d2fe30c5bdd7\">\n",
              "      Upload widget is only available when the cell has been executed in the\n",
              "      current browser session. Please rerun this cell to enable.\n",
              "      </output>\n",
              "      <script src=\"/nbextensions/google.colab/files.js\"></script> "
            ],
            "text/plain": [
              "<IPython.core.display.HTML object>"
            ]
          },
          "metadata": {
            "tags": []
          }
        },
        {
          "output_type": "stream",
          "text": [
            "Saving t10k-images-idx3-ubyte.gz to t10k-images-idx3-ubyte.gz\n",
            "Saving t10k-labels-idx1-ubyte.gz to t10k-labels-idx1-ubyte.gz\n",
            "Saving train-images-idx3-ubyte.gz to train-images-idx3-ubyte.gz\n",
            "Saving train-labels-idx1-ubyte.gz to train-labels-idx1-ubyte.gz\n"
          ],
          "name": "stdout"
        }
      ]
    },
    {
      "cell_type": "code",
      "metadata": {
        "id": "o5AGQbbmLRjb",
        "colab_type": "code",
        "outputId": "339f5c21-6b96-4533-8755-38689b575a20",
        "colab": {
          "resources": {
            "http://localhost:8080/nbextensions/google.colab/files.js": {
              "data": "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",
              "ok": true,
              "headers": [
                [
                  "content-type",
                  "application/javascript"
                ]
              ],
              "status": 200,
              "status_text": "OK"
            }
          },
          "base_uri": "https://localhost:8080/",
          "height": 72
        }
      },
      "source": [
        "uploaded = files.upload()"
      ],
      "execution_count": 4,
      "outputs": [
        {
          "output_type": "display_data",
          "data": {
            "text/html": [
              "\n",
              "     <input type=\"file\" id=\"files-2269b7b4-b0b5-45c0-b1e6-9c5b2062653f\" name=\"files[]\" multiple disabled />\n",
              "     <output id=\"result-2269b7b4-b0b5-45c0-b1e6-9c5b2062653f\">\n",
              "      Upload widget is only available when the cell has been executed in the\n",
              "      current browser session. Please rerun this cell to enable.\n",
              "      </output>\n",
              "      <script src=\"/nbextensions/google.colab/files.js\"></script> "
            ],
            "text/plain": [
              "<IPython.core.display.HTML object>"
            ]
          },
          "metadata": {
            "tags": []
          }
        },
        {
          "output_type": "stream",
          "text": [
            "Saving util_mnist_reader.py to util_mnist_reader.py\n"
          ],
          "name": "stdout"
        }
      ]
    },
    {
      "cell_type": "code",
      "metadata": {
        "id": "qXqwPCUxGGh8",
        "colab_type": "code",
        "colab": {}
      },
      "source": [
        "import util_mnist_reader\n",
        "import numpy as np\n",
        "from sklearn.model_selection import train_test_split\n",
        "from sklearn.preprocessing import OneHotEncoder\n",
        "from sklearn.metrics import accuracy_score\n",
        "import matplotlib.pyplot as plt"
      ],
      "execution_count": 0,
      "outputs": []
    },
    {
      "cell_type": "code",
      "metadata": {
        "id": "bYslqB05Gcuk",
        "colab_type": "code",
        "colab": {}
      },
      "source": [
        "# Read Fashion MNIST dataset\n",
        "X_train, y_train = util_mnist_reader.load_mnist('', kind='train')\n",
        "X_test, y_test = util_mnist_reader.load_mnist('', kind='t10k')\n"
      ],
      "execution_count": 0,
      "outputs": []
    },
    {
      "cell_type": "code",
      "metadata": {
        "id": "Y1FIGtwRGflP",
        "colab_type": "code",
        "outputId": "507b35a3-d51f-4a9c-9737-c9ae7182e1ee",
        "colab": {
          "base_uri": "https://localhost:8080/",
          "height": 106
        }
      },
      "source": [
        "#preprocessing of the images\n",
        "\n",
        "#normalise the image\n",
        "X_train=X_train/255\n",
        "X_test=X_test/255\n",
        "y_train=y_train.reshape(-1,1)\n",
        "\n",
        "#onehot encode the output\n",
        "encoder= OneHotEncoder()\n",
        "y_train=encoder.fit_transform(y_train)\n",
        "y_train=y_train.toarray()\n",
        "y_test=y_test.reshape(-1,1)\n",
        "y_test=encoder.transform(y_test)\n",
        "y_test=y_test.toarray()\n"
      ],
      "execution_count": 28,
      "outputs": [
        {
          "output_type": "stream",
          "text": [
            "/usr/local/lib/python3.6/dist-packages/sklearn/preprocessing/_encoders.py:415: FutureWarning: The handling of integer data will change in version 0.22. Currently, the categories are determined based on the range [0, max(values)], while in the future they will be determined based on the unique values.\n",
            "If you want the future behaviour and silence this warning, you can specify \"categories='auto'\".\n",
            "In case you used a LabelEncoder before this OneHotEncoder to convert the categories to integers, then you can now use the OneHotEncoder directly.\n",
            "  warnings.warn(msg, FutureWarning)\n"
          ],
          "name": "stderr"
        }
      ]
    },
    {
      "cell_type": "code",
      "metadata": {
        "id": "U8UhfCShGhsA",
        "colab_type": "code",
        "colab": {}
      },
      "source": [
        "#the softmax function\n",
        "def softMax(x):\n",
        "    expX=np.exp(x)\n",
        "    return expX/expX.sum(axis=1,keepdims=True)\n",
        "#learning rate\n",
        "lr=0.4\n",
        "#array to store the loss function\n",
        "error_cost = []\n",
        "error_cost_val=[]\n",
        "#split into testing and validation date\n",
        "X_val,X_test,y_val,y_test=train_test_split(X_test, y_test, test_size=0.50)"
      ],
      "execution_count": 0,
      "outputs": []
    },
    {
      "cell_type": "code",
      "metadata": {
        "id": "FLxjWwyBGkhP",
        "colab_type": "code",
        "colab": {}
      },
      "source": [
        "#method for training\n",
        "def train_model(X_train,y_train,n):\n",
        "    w1=np.random.rand(784,50)*0.001\n",
        "    b1=np.random.rand(1,50)\n",
        "    w2=np.random.rand(50,10)*0.001\n",
        "    b2=np.random.rand(1,10)\n",
        "    for epoch in range(3000):\n",
        "\n",
        "        #forward pass  \n",
        "        z1=np.dot(X_train,w1)+b1\n",
        "        a1=1/(1+np.exp(-z1))\n",
        "        z2=np.dot(a1,w2)+b2\n",
        "        a2=softMax(z2)\n",
        "\n",
        "        #gradient claculation\n",
        "        dz2=a2-y_train\n",
        "        dw2=np.dot(a1.T,dz2)/n\n",
        "        db2=np.sum(dz2,axis=0,keepdims=True)/n\n",
        "        tmp=np.dot(dz2,w2.T)\n",
        "        dz1=tmp*a1*(1-a1)\n",
        "        dw1=np.dot(X_train.T,dz1)/n\n",
        "        db1=np.sum(dz1,axis=0,keepdims=True)/n\n",
        "\n",
        "        #calculate and store loss for training and val data\n",
        "        #print(y_train.shape)\n",
        "        loss = np.sum(-y_train * np.log(a2))/n\n",
        "        error_cost.append(loss)\n",
        "        z1=np.dot(X_val,w1)+b1\n",
        "        a1=1/(1+np.exp(-z1))\n",
        "        z2=np.dot(a1,w2)+b2\n",
        "        a2=softMax(z2)\n",
        "        loss_val=np.sum(-y_val * np.log(a2))/n\n",
        "        error_cost_val.append(loss_val)\n",
        "\n",
        "        #paramters update\n",
        "        w1=w1-lr*dw1\n",
        "        w2=w2-lr*dw2\n",
        "        b1=b1-lr*db1\n",
        "        b2=b2-lr*db2\n",
        "\n",
        "        \n",
        "        if epoch % 500 == 0:\n",
        "            print('Loss function value: ', loss_val)\n",
        "            \n",
        "    return w1,w2,b1,b2"
      ],
      "execution_count": 0,
      "outputs": []
    },
    {
      "cell_type": "code",
      "metadata": {
        "id": "SQXecKVhIQ5A",
        "colab_type": "code",
        "outputId": "4392520e-b584-4cad-c683-f6ba47f5289f",
        "colab": {
          "base_uri": "https://localhost:8080/",
          "height": 121
        }
      },
      "source": [
        "#train the model\n",
        "w1,w2,b1,b2=train_model(X_train,y_train,60000)\n",
        "\n",
        "def pred(w1,w2,b1,b2,X_test):\n",
        "    z1=np.dot(X_test,w1)+b1\n",
        "    a1=1/(1+np.exp(-z1))\n",
        "    z2=np.dot(a1,w2)+b2\n",
        "    a2=softMax(z2)\n",
        "    return a2\n",
        "\n",
        "#predict the for test data\n",
        "y_pred=pred(w1,w2,b1,b2,X_test)\n",
        "y_one_hot=np.zeros_like(y_pred)\n",
        "y_one_hot[np.arange(len(y_pred)),y_pred.argmax(1)]=1"
      ],
      "execution_count": 44,
      "outputs": [
        {
          "output_type": "stream",
          "text": [
            "Loss function value:  0.1939032563875888\n",
            "Loss function value:  0.049463576863550185\n",
            "Loss function value:  0.04002610468035111\n",
            "Loss function value:  0.03698776172608636\n",
            "Loss function value:  0.03567403946887402\n",
            "Loss function value:  0.03444472615072535\n"
          ],
          "name": "stdout"
        }
      ]
    },
    {
      "cell_type": "code",
      "metadata": {
        "id": "gsXcoml_KMft",
        "colab_type": "code",
        "colab": {
          "base_uri": "https://localhost:8080/",
          "height": 286
        },
        "outputId": "9844e8a0-f2ad-4621-c2a0-e8a6e02050f9"
      },
      "source": [
        "#graph of loss vs epoch\n",
        "print(len(error_cost_val))\n",
        "plt.plot(error_cost_val)\n",
        "plt.plot(error_cost)\n",
        "plt.legend([\"loss_val\",\"loss\"])\n",
        "plt.show()"
      ],
      "execution_count": 45,
      "outputs": [
        {
          "output_type": "stream",
          "text": [
            "3008\n"
          ],
          "name": "stdout"
        },
        {
          "output_type": "display_data",
          "data": {
            "image/png": "[encoded data removed]",
            "text/plain": [
              "<Figure size 432x288 with 1 Axes>"
            ]
          },
          "metadata": {
            "tags": []
          }
        }
      ]
    },
    {
      "cell_type": "code",
      "metadata": {
        "id": "9BhulVIxSEK1",
        "colab_type": "code",
        "outputId": "681b2383-cc3b-490c-b9cd-ada5988346ff",
        "colab": {
          "base_uri": "https://localhost:8080/",
          "height": 34
        }
      },
      "source": [
        "#print accuracy\n",
        "acc=accuracy_score(y_test, y_one_hot)\n",
        "print(acc)"
      ],
      "execution_count": 12,
      "outputs": [
        {
          "output_type": "stream",
          "text": [
            "0.4236\n"
          ],
          "name": "stdout"
        }
      ]
    },
    {
      "cell_type": "code",
      "metadata": {
        "id": "lVGttNduftnX",
        "colab_type": "code",
        "colab": {
          "base_uri": "https://localhost:8080/",
          "height": 191
        },
        "outputId": "bc505d08-21c6-4666-9aca-3fe121fdae29"
      },
      "source": [
        "from sklearn.metrics import confusion_matrix\n",
        "y_test1=y_test.argmax(1)\n",
        "y_one1=y_one_hot.argmax(1)\n",
        "ac=confusion_matrix(y_test1, y_one1)\n",
        "print(ac)"
      ],
      "execution_count": 18,
      "outputs": [
        {
          "output_type": "stream",
          "text": [
            "[[418   1   9  20   0   2  53   0   2   0]\n",
            " [  2 501   1  13   1   0   1   0   1   0]\n",
            " [  5   2 410   4  50   0  45   0   4   0]\n",
            " [ 12   8   5 448  11   0  13   0   4   0]\n",
            " [  1   2  56  23 340   0  48   0   4   0]\n",
            " [  0   0   0   0   0 466   0  25   1  11]\n",
            " [ 64   0  52  15  30   0 314   0  12   0]\n",
            " [  0   0   0   0   0  16   0 454   0  20]\n",
            " [  0   0   5   4   1   1   6   3 491   0]\n",
            " [  0   0   0   0   0  10   0  24   0 455]]\n"
          ],
          "name": "stdout"
        }
      ]
    },
    {
      "cell_type": "code",
      "metadata": {
        "id": "MpwGxvXhSEAD",
        "colab_type": "code",
        "colab": {
          "base_uri": "https://localhost:8080/",
          "height": 34
        },
        "outputId": "3f835ae1-0b8b-4a0d-afce-4e77ec4c1a52"
      },
      "source": [
        "from keras import Sequential\n",
        "from keras.layers import Dense,Flatten\n",
        "from keras.layers import Conv2D\n",
        "from keras import optimizers"
      ],
      "execution_count": 47,
      "outputs": [
        {
          "output_type": "stream",
          "text": [
            "Using TensorFlow backend.\n"
          ],
          "name": "stderr"
        }
      ]
    },
    {
      "cell_type": "markdown",
      "metadata": {
        "id": "AhWx_QQ-yAAO",
        "colab_type": "text"
      },
      "source": [
        "###Keras multi layer NN"
      ]
    },
    {
      "cell_type": "code",
      "metadata": {
        "id": "7CgAM6z8wizZ",
        "colab_type": "code",
        "colab": {}
      },
      "source": [
        "#declare the NN with 2 hidden layers\n",
        "classifier= Sequential()\n",
        "classifier.add(Dense(50,activation='sigmoid',input_dim=784))\n",
        "classifier.add(Dense(40,activation='sigmoid'))\n",
        "#output layer\n",
        "classifier.add(Dense(10,activation='softmax'))\n",
        "#definelr\n",
        "sgd = optimizers.SGD(lr=0.4)\n",
        "classifier.compile(loss='categorical_crossentropy',optimizer='sgd',metrics=['accuracy'])"
      ],
      "execution_count": 0,
      "outputs": []
    },
    {
      "cell_type": "code",
      "metadata": {
        "id": "1KxLXzNnzopy",
        "colab_type": "code",
        "outputId": "6e510915-d3ce-46f3-ba1c-ca1fc3a2e532",
        "colab": {
          "base_uri": "https://localhost:8080/",
          "height": 1000
        }
      },
      "source": [
        "#train the classifier\n",
        "training_stats = classifier.fit(X_train,y_train, batch_size=32, epochs=50,validation_data=(X_val, y_val))"
      ],
      "execution_count": 233,
      "outputs": [
        {
          "output_type": "stream",
          "text": [
            "Train on 60000 samples, validate on 5000 samples\n",
            "Epoch 1/50\n",
            "60000/60000 [==============================] - 7s 119us/step - loss: 2.2753 - acc: 0.2657 - val_loss: 2.2238 - val_acc: 0.3800\n",
            "Epoch 2/50\n",
            "60000/60000 [==============================] - 3s 46us/step - loss: 2.1732 - acc: 0.4231 - val_loss: 2.1160 - val_acc: 0.3978\n",
            "Epoch 3/50\n",
            "60000/60000 [==============================] - 3s 46us/step - loss: 2.0393 - acc: 0.4681 - val_loss: 1.9578 - val_acc: 0.4670\n",
            "Epoch 4/50\n",
            "60000/60000 [==============================] - 3s 45us/step - loss: 1.8707 - acc: 0.5297 - val_loss: 1.7890 - val_acc: 0.5638\n",
            "Epoch 5/50\n",
            "60000/60000 [==============================] - 3s 45us/step - loss: 1.7169 - acc: 0.5760 - val_loss: 1.6513 - val_acc: 0.5772\n",
            "Epoch 6/50\n",
            "60000/60000 [==============================] - 3s 45us/step - loss: 1.5928 - acc: 0.5815 - val_loss: 1.5375 - val_acc: 0.5990\n",
            "Epoch 7/50\n",
            "60000/60000 [==============================] - 3s 46us/step - loss: 1.4857 - acc: 0.5960 - val_loss: 1.4352 - val_acc: 0.6042\n",
            "Epoch 8/50\n",
            "60000/60000 [==============================] - 3s 46us/step - loss: 1.3884 - acc: 0.6082 - val_loss: 1.3428 - val_acc: 0.6114\n",
            "Epoch 9/50\n",
            "60000/60000 [==============================] - 3s 46us/step - loss: 1.3006 - acc: 0.6175 - val_loss: 1.2609 - val_acc: 0.6200\n",
            "Epoch 10/50\n",
            "60000/60000 [==============================] - 3s 45us/step - loss: 1.2227 - acc: 0.6288 - val_loss: 1.1890 - val_acc: 0.6286\n",
            "Epoch 11/50\n",
            "60000/60000 [==============================] - 3s 45us/step - loss: 1.1546 - acc: 0.6405 - val_loss: 1.1268 - val_acc: 0.6436\n",
            "Epoch 12/50\n",
            "60000/60000 [==============================] - 3s 46us/step - loss: 1.0959 - acc: 0.6525 - val_loss: 1.0740 - val_acc: 0.6502\n",
            "Epoch 13/50\n",
            "60000/60000 [==============================] - 3s 46us/step - loss: 1.0452 - acc: 0.6640 - val_loss: 1.0284 - val_acc: 0.6596\n",
            "Epoch 14/50\n",
            "60000/60000 [==============================] - 3s 46us/step - loss: 1.0014 - acc: 0.6746 - val_loss: 0.9881 - val_acc: 0.6736\n",
            "Epoch 15/50\n",
            "60000/60000 [==============================] - 3s 47us/step - loss: 0.9633 - acc: 0.6869 - val_loss: 0.9537 - val_acc: 0.6808\n",
            "Epoch 16/50\n",
            "60000/60000 [==============================] - 3s 45us/step - loss: 0.9299 - acc: 0.6945 - val_loss: 0.9225 - val_acc: 0.6924\n",
            "Epoch 17/50\n",
            "60000/60000 [==============================] - 3s 46us/step - loss: 0.9003 - acc: 0.7028 - val_loss: 0.8948 - val_acc: 0.6932\n",
            "Epoch 18/50\n",
            "60000/60000 [==============================] - 3s 47us/step - loss: 0.8736 - acc: 0.7079 - val_loss: 0.8701 - val_acc: 0.7016\n",
            "Epoch 19/50\n",
            "60000/60000 [==============================] - 3s 45us/step - loss: 0.8496 - acc: 0.7135 - val_loss: 0.8474 - val_acc: 0.7050\n",
            "Epoch 20/50\n",
            "60000/60000 [==============================] - 3s 46us/step - loss: 0.8278 - acc: 0.7182 - val_loss: 0.8266 - val_acc: 0.7108\n",
            "Epoch 21/50\n",
            "60000/60000 [==============================] - 3s 45us/step - loss: 0.8078 - acc: 0.7231 - val_loss: 0.8072 - val_acc: 0.7156\n",
            "Epoch 22/50\n",
            "60000/60000 [==============================] - 3s 46us/step - loss: 0.7894 - acc: 0.7286 - val_loss: 0.7894 - val_acc: 0.7204\n",
            "Epoch 23/50\n",
            "60000/60000 [==============================] - 3s 45us/step - loss: 0.7725 - acc: 0.7324 - val_loss: 0.7728 - val_acc: 0.7232\n",
            "Epoch 24/50\n",
            "60000/60000 [==============================] - 3s 46us/step - loss: 0.7567 - acc: 0.7365 - val_loss: 0.7581 - val_acc: 0.7270\n",
            "Epoch 25/50\n",
            "60000/60000 [==============================] - 3s 44us/step - loss: 0.7421 - acc: 0.7406 - val_loss: 0.7438 - val_acc: 0.7312\n",
            "Epoch 26/50\n",
            "60000/60000 [==============================] - 3s 44us/step - loss: 0.7283 - acc: 0.7444 - val_loss: 0.7301 - val_acc: 0.7340\n",
            "Epoch 27/50\n",
            "60000/60000 [==============================] - 3s 43us/step - loss: 0.7155 - acc: 0.7473 - val_loss: 0.7181 - val_acc: 0.7388\n",
            "Epoch 28/50\n",
            "60000/60000 [==============================] - 3s 43us/step - loss: 0.7035 - acc: 0.7514 - val_loss: 0.7066 - val_acc: 0.7404\n",
            "Epoch 29/50\n",
            "60000/60000 [==============================] - 3s 44us/step - loss: 0.6921 - acc: 0.7542 - val_loss: 0.6950 - val_acc: 0.7442\n",
            "Epoch 30/50\n",
            "60000/60000 [==============================] - 3s 44us/step - loss: 0.6813 - acc: 0.7573 - val_loss: 0.6848 - val_acc: 0.7464\n",
            "Epoch 31/50\n",
            "60000/60000 [==============================] - 3s 44us/step - loss: 0.6712 - acc: 0.7605 - val_loss: 0.6752 - val_acc: 0.7508\n",
            "Epoch 32/50\n",
            "60000/60000 [==============================] - 3s 45us/step - loss: 0.6616 - acc: 0.7629 - val_loss: 0.6657 - val_acc: 0.7542\n",
            "Epoch 33/50\n",
            "60000/60000 [==============================] - 3s 45us/step - loss: 0.6525 - acc: 0.7657 - val_loss: 0.6569 - val_acc: 0.7588\n",
            "Epoch 34/50\n",
            "60000/60000 [==============================] - 3s 47us/step - loss: 0.6439 - acc: 0.7686 - val_loss: 0.6487 - val_acc: 0.7614\n",
            "Epoch 35/50\n",
            "60000/60000 [==============================] - 3s 45us/step - loss: 0.6356 - acc: 0.7713 - val_loss: 0.6409 - val_acc: 0.7638\n",
            "Epoch 36/50\n",
            "60000/60000 [==============================] - 3s 46us/step - loss: 0.6279 - acc: 0.7732 - val_loss: 0.6332 - val_acc: 0.7658\n",
            "Epoch 37/50\n",
            "60000/60000 [==============================] - 3s 44us/step - loss: 0.6205 - acc: 0.7760 - val_loss: 0.6263 - val_acc: 0.7696\n",
            "Epoch 38/50\n",
            "60000/60000 [==============================] - 3s 45us/step - loss: 0.6135 - acc: 0.7786 - val_loss: 0.6197 - val_acc: 0.7730\n",
            "Epoch 39/50\n",
            "60000/60000 [==============================] - 3s 46us/step - loss: 0.6067 - acc: 0.7805 - val_loss: 0.6134 - val_acc: 0.7786\n",
            "Epoch 40/50\n",
            "60000/60000 [==============================] - 3s 46us/step - loss: 0.6003 - acc: 0.7834 - val_loss: 0.6064 - val_acc: 0.7754\n",
            "Epoch 41/50\n",
            "60000/60000 [==============================] - 3s 45us/step - loss: 0.5942 - acc: 0.7860 - val_loss: 0.6012 - val_acc: 0.7784\n",
            "Epoch 42/50\n",
            "60000/60000 [==============================] - 3s 45us/step - loss: 0.5884 - acc: 0.7884 - val_loss: 0.5953 - val_acc: 0.7792\n",
            "Epoch 43/50\n",
            "60000/60000 [==============================] - 3s 46us/step - loss: 0.5827 - acc: 0.7900 - val_loss: 0.5901 - val_acc: 0.7828\n",
            "Epoch 44/50\n",
            "60000/60000 [==============================] - 3s 46us/step - loss: 0.5775 - acc: 0.7927 - val_loss: 0.5849 - val_acc: 0.7876\n",
            "Epoch 45/50\n",
            "60000/60000 [==============================] - 3s 45us/step - loss: 0.5722 - acc: 0.7956 - val_loss: 0.5806 - val_acc: 0.7904\n",
            "Epoch 46/50\n",
            "60000/60000 [==============================] - 3s 46us/step - loss: 0.5673 - acc: 0.7978 - val_loss: 0.5758 - val_acc: 0.7916\n",
            "Epoch 47/50\n",
            "60000/60000 [==============================] - 3s 44us/step - loss: 0.5626 - acc: 0.7994 - val_loss: 0.5710 - val_acc: 0.7920\n",
            "Epoch 48/50\n",
            "60000/60000 [==============================] - 3s 45us/step - loss: 0.5580 - acc: 0.8005 - val_loss: 0.5668 - val_acc: 0.7954\n",
            "Epoch 49/50\n",
            "60000/60000 [==============================] - 3s 45us/step - loss: 0.5537 - acc: 0.8035 - val_loss: 0.5630 - val_acc: 0.7974\n",
            "Epoch 50/50\n",
            "60000/60000 [==============================] - 3s 46us/step - loss: 0.5495 - acc: 0.8049 - val_loss: 0.5592 - val_acc: 0.7974\n"
          ],
          "name": "stdout"
        }
      ]
    },
    {
      "cell_type": "code",
      "metadata": {
        "id": "KADHtHP_SHUI",
        "colab_type": "code",
        "colab": {
          "base_uri": "https://localhost:8080/",
          "height": 269
        },
        "outputId": "aa0ba6fb-da70-4e71-f2fc-0f8d2ddba9e4"
      },
      "source": [
        "#generate the graph of loss vs epoch\n",
        "loss = training_stats.history['loss']\n",
        "val_loss = training_stats.history['val_loss']\n",
        "plt.plot(loss)\n",
        "plt.plot(val_loss)\n",
        "plt.legend(['loss', 'val_loss'])\n",
        "plt.show()"
      ],
      "execution_count": 234,
      "outputs": [
        {
          "output_type": "display_data",
          "data": {
            "image/png": "[encoded data removed]",
            "text/plain": [
              "<Figure size 432x288 with 1 Axes>"
            ]
          },
          "metadata": {
            "tags": []
          }
        }
      ]
    },
    {
      "cell_type": "code",
      "metadata": {
        "id": "7Qy4WHL402VX",
        "colab_type": "code",
        "outputId": "b5039af6-a3dc-4cc7-cfa6-59b915bf129d",
        "colab": {
          "base_uri": "https://localhost:8080/",
          "height": 34
        }
      },
      "source": [
        "#test the classifier and generate accruracy\n",
        "y_pred=classifier.predict(X_test)\n",
        "y_one_hot=np.zeros_like(y_pred)\n",
        "y_one_hot[np.arange(len(y_pred)),y_pred.argmax(1)]=1\n",
        "acc=accuracy_score(y_test, y_one_hot)\n",
        "print(acc)"
      ],
      "execution_count": 235,
      "outputs": [
        {
          "output_type": "stream",
          "text": [
            "0.792\n"
          ],
          "name": "stdout"
        }
      ]
    },
    {
      "cell_type": "code",
      "metadata": {
        "id": "PKoISG51IjcL",
        "colab_type": "code",
        "colab": {}
      },
      "source": [
        "from sklearn.metrics import confusion_matrix\n",
        "y_test1=y_test.argmax(1)\n",
        "y_one1=y_one_hot.argmax(1)\n",
        "ac=confusion_matrix(y_test1, y_one1)\n",
        "print(ac)"
      ],
      "execution_count": 0,
      "outputs": []
    },
    {
      "cell_type": "markdown",
      "metadata": {
        "id": "PyIZramj-NQr",
        "colab_type": "text"
      },
      "source": [
        "###CNN with Keras"
      ]
    },
    {
      "cell_type": "code",
      "metadata": {
        "id": "6OVmnY2IVpkd",
        "colab_type": "code",
        "colab": {}
      },
      "source": [
        "#declare the NN\n",
        "classifier= Sequential()\n",
        "#conv layer\n",
        "classifier.add(Conv2D(32,(3,3),activation='relu',input_shape=(28,28,1)))\n",
        "classifier.add(Flatten())\n",
        "#dense layer\n",
        "classifier.add(Dense(16,activation='sigmoid'))\n",
        "#output layer\n",
        "classifier.add(Dense(10,activation='softmax'))\n",
        "#define the lr\n",
        "sgd = optimizers.SGD(lr=0.4)\n",
        "classifier.compile(loss='categorical_crossentropy',optimizer='sgd',metrics=['accuracy'])\n",
        "X_trainIM=X_train.reshape((-1,28,28,1))\n",
        "X_valIM=X_val.reshape((-1,28,28,1))"
      ],
      "execution_count": 0,
      "outputs": []
    },
    {
      "cell_type": "code",
      "metadata": {
        "id": "A1yq5UvUh-TK",
        "colab_type": "code",
        "outputId": "0639868e-5848-4cf8-a78f-d08e929363fc",
        "colab": {
          "base_uri": "https://localhost:8080/",
          "height": 1000
        }
      },
      "source": [
        "#train the network\n",
        "cnnTrainingData = classifier.fit(X_trainIM,y_train, batch_size=32, epochs=50,validation_data=(X_valIM, y_val))"
      ],
      "execution_count": 56,
      "outputs": [
        {
          "output_type": "stream",
          "text": [
            "Train on 60000 samples, validate on 5000 samples\n",
            "Epoch 1/50\n",
            "60000/60000 [==============================] - 11s 190us/step - loss: 1.2590 - acc: 0.6670 - val_loss: 0.8371 - val_acc: 0.7598\n",
            "Epoch 2/50\n",
            "60000/60000 [==============================] - 12s 199us/step - loss: 0.7163 - acc: 0.7856 - val_loss: 0.6613 - val_acc: 0.7798\n",
            "Epoch 3/50\n",
            "60000/60000 [==============================] - 11s 191us/step - loss: 0.6024 - acc: 0.8080 - val_loss: 0.5912 - val_acc: 0.8000\n",
            "Epoch 4/50\n",
            "60000/60000 [==============================] - 11s 184us/step - loss: 0.5504 - acc: 0.8250 - val_loss: 0.5501 - val_acc: 0.8080\n",
            "Epoch 5/50\n",
            "60000/60000 [==============================] - 11s 184us/step - loss: 0.5192 - acc: 0.8308 - val_loss: 0.5279 - val_acc: 0.8176\n",
            "Epoch 6/50\n",
            "60000/60000 [==============================] - 11s 186us/step - loss: 0.4973 - acc: 0.8352 - val_loss: 0.5051 - val_acc: 0.8292\n",
            "Epoch 7/50\n",
            "60000/60000 [==============================] - 11s 189us/step - loss: 0.4805 - acc: 0.8407 - val_loss: 0.4861 - val_acc: 0.8314\n",
            "Epoch 8/50\n",
            "60000/60000 [==============================] - 11s 186us/step - loss: 0.4665 - acc: 0.8435 - val_loss: 0.4884 - val_acc: 0.8290\n",
            "Epoch 9/50\n",
            "60000/60000 [==============================] - 11s 189us/step - loss: 0.4558 - acc: 0.8475 - val_loss: 0.4735 - val_acc: 0.8384\n",
            "Epoch 10/50\n",
            "60000/60000 [==============================] - 11s 183us/step - loss: 0.4459 - acc: 0.8501 - val_loss: 0.4698 - val_acc: 0.8390\n",
            "Epoch 11/50\n",
            "60000/60000 [==============================] - 12s 192us/step - loss: 0.4366 - acc: 0.8528 - val_loss: 0.4610 - val_acc: 0.8392\n",
            "Epoch 12/50\n",
            "60000/60000 [==============================] - 11s 186us/step - loss: 0.4281 - acc: 0.8560 - val_loss: 0.4559 - val_acc: 0.8452\n",
            "Epoch 13/50\n",
            "60000/60000 [==============================] - 11s 185us/step - loss: 0.4217 - acc: 0.8564 - val_loss: 0.4433 - val_acc: 0.8460\n",
            "Epoch 14/50\n",
            "60000/60000 [==============================] - 11s 184us/step - loss: 0.4151 - acc: 0.8595 - val_loss: 0.4677 - val_acc: 0.8302\n",
            "Epoch 15/50\n",
            "60000/60000 [==============================] - 11s 191us/step - loss: 0.4076 - acc: 0.8608 - val_loss: 0.4527 - val_acc: 0.8420\n",
            "Epoch 16/50\n",
            "60000/60000 [==============================] - 11s 187us/step - loss: 0.4008 - acc: 0.8624 - val_loss: 0.4408 - val_acc: 0.8494\n",
            "Epoch 17/50\n",
            "60000/60000 [==============================] - 11s 188us/step - loss: 0.3932 - acc: 0.8661 - val_loss: 0.4292 - val_acc: 0.8514\n",
            "Epoch 18/50\n",
            "60000/60000 [==============================] - 11s 190us/step - loss: 0.3859 - acc: 0.8678 - val_loss: 0.4197 - val_acc: 0.8514\n",
            "Epoch 19/50\n",
            "60000/60000 [==============================] - 11s 186us/step - loss: 0.3792 - acc: 0.8696 - val_loss: 0.4167 - val_acc: 0.8534\n",
            "Epoch 20/50\n",
            "60000/60000 [==============================] - 11s 190us/step - loss: 0.3733 - acc: 0.8730 - val_loss: 0.4103 - val_acc: 0.8546\n",
            "Epoch 21/50\n",
            "60000/60000 [==============================] - 11s 188us/step - loss: 0.3659 - acc: 0.8754 - val_loss: 0.4012 - val_acc: 0.8588\n",
            "Epoch 22/50\n",
            "60000/60000 [==============================] - 11s 191us/step - loss: 0.3590 - acc: 0.8774 - val_loss: 0.4002 - val_acc: 0.8604\n",
            "Epoch 23/50\n",
            "60000/60000 [==============================] - 11s 189us/step - loss: 0.3526 - acc: 0.8793 - val_loss: 0.3910 - val_acc: 0.8632\n",
            "Epoch 24/50\n",
            "60000/60000 [==============================] - 11s 188us/step - loss: 0.3463 - acc: 0.8824 - val_loss: 0.3856 - val_acc: 0.8632\n",
            "Epoch 25/50\n",
            "60000/60000 [==============================] - 11s 188us/step - loss: 0.3387 - acc: 0.8845 - val_loss: 0.3836 - val_acc: 0.8648\n",
            "Epoch 26/50\n",
            "60000/60000 [==============================] - 11s 188us/step - loss: 0.3330 - acc: 0.8857 - val_loss: 0.3737 - val_acc: 0.8672\n",
            "Epoch 27/50\n",
            "60000/60000 [==============================] - 11s 188us/step - loss: 0.3266 - acc: 0.8883 - val_loss: 0.3697 - val_acc: 0.8694\n",
            "Epoch 28/50\n",
            "60000/60000 [==============================] - 11s 188us/step - loss: 0.3212 - acc: 0.8890 - val_loss: 0.3644 - val_acc: 0.8690\n",
            "Epoch 29/50\n",
            "60000/60000 [==============================] - 12s 192us/step - loss: 0.3157 - acc: 0.8912 - val_loss: 0.3726 - val_acc: 0.8670\n",
            "Epoch 30/50\n",
            "60000/60000 [==============================] - 11s 191us/step - loss: 0.3097 - acc: 0.8935 - val_loss: 0.3540 - val_acc: 0.8750\n",
            "Epoch 31/50\n",
            "60000/60000 [==============================] - 11s 188us/step - loss: 0.3050 - acc: 0.8950 - val_loss: 0.3555 - val_acc: 0.8728\n",
            "Epoch 32/50\n",
            "60000/60000 [==============================] - 11s 191us/step - loss: 0.2999 - acc: 0.8967 - val_loss: 0.3541 - val_acc: 0.8714\n",
            "Epoch 33/50\n",
            "60000/60000 [==============================] - 11s 191us/step - loss: 0.2946 - acc: 0.8982 - val_loss: 0.3455 - val_acc: 0.8808\n",
            "Epoch 34/50\n",
            "60000/60000 [==============================] - 11s 188us/step - loss: 0.2905 - acc: 0.8997 - val_loss: 0.3483 - val_acc: 0.8744\n",
            "Epoch 35/50\n",
            "60000/60000 [==============================] - 12s 194us/step - loss: 0.2857 - acc: 0.9006 - val_loss: 0.3398 - val_acc: 0.8806\n",
            "Epoch 36/50\n",
            "60000/60000 [==============================] - 11s 188us/step - loss: 0.2810 - acc: 0.9022 - val_loss: 0.3395 - val_acc: 0.8786\n",
            "Epoch 37/50\n",
            "60000/60000 [==============================] - 11s 186us/step - loss: 0.2765 - acc: 0.9044 - val_loss: 0.3315 - val_acc: 0.8868\n",
            "Epoch 38/50\n",
            "60000/60000 [==============================] - 11s 187us/step - loss: 0.2728 - acc: 0.9054 - val_loss: 0.3319 - val_acc: 0.8856\n",
            "Epoch 39/50\n",
            "60000/60000 [==============================] - 11s 186us/step - loss: 0.2686 - acc: 0.9075 - val_loss: 0.3280 - val_acc: 0.8870\n",
            "Epoch 40/50\n",
            "60000/60000 [==============================] - 11s 189us/step - loss: 0.2652 - acc: 0.9082 - val_loss: 0.3315 - val_acc: 0.8852\n",
            "Epoch 41/50\n",
            "60000/60000 [==============================] - 11s 192us/step - loss: 0.2620 - acc: 0.9089 - val_loss: 0.3352 - val_acc: 0.8758\n",
            "Epoch 42/50\n",
            "60000/60000 [==============================] - 12s 192us/step - loss: 0.2579 - acc: 0.9109 - val_loss: 0.3325 - val_acc: 0.8806\n",
            "Epoch 43/50\n",
            "60000/60000 [==============================] - 11s 187us/step - loss: 0.2542 - acc: 0.9120 - val_loss: 0.3228 - val_acc: 0.8852\n",
            "Epoch 44/50\n",
            "60000/60000 [==============================] - 11s 190us/step - loss: 0.2508 - acc: 0.9127 - val_loss: 0.3214 - val_acc: 0.8876\n",
            "Epoch 45/50\n",
            "60000/60000 [==============================] - 11s 188us/step - loss: 0.2482 - acc: 0.9134 - val_loss: 0.3195 - val_acc: 0.8880\n",
            "Epoch 46/50\n",
            "60000/60000 [==============================] - 11s 186us/step - loss: 0.2454 - acc: 0.9146 - val_loss: 0.3117 - val_acc: 0.8924\n",
            "Epoch 47/50\n",
            "60000/60000 [==============================] - 11s 187us/step - loss: 0.2417 - acc: 0.9159 - val_loss: 0.3134 - val_acc: 0.8888\n",
            "Epoch 48/50\n",
            "60000/60000 [==============================] - 11s 184us/step - loss: 0.2391 - acc: 0.9165 - val_loss: 0.3170 - val_acc: 0.8888\n",
            "Epoch 49/50\n",
            "60000/60000 [==============================] - 11s 183us/step - loss: 0.2360 - acc: 0.9178 - val_loss: 0.3112 - val_acc: 0.8918\n",
            "Epoch 50/50\n",
            "60000/60000 [==============================] - 11s 186us/step - loss: 0.2333 - acc: 0.9184 - val_loss: 0.3105 - val_acc: 0.8930\n"
          ],
          "name": "stdout"
        }
      ]
    },
    {
      "cell_type": "code",
      "metadata": {
        "id": "v-mzy1ugj-3T",
        "colab_type": "code",
        "colab": {
          "base_uri": "https://localhost:8080/",
          "height": 269
        },
        "outputId": "ee3332dd-6c31-43ae-8851-2b3e47fe7ef1"
      },
      "source": [
        "#plot loss vs epoch\n",
        "loss = cnnTrainingData.history['loss']\n",
        "val_loss = cnnTrainingData.history['val_loss']\n",
        "plt.plot(loss)\n",
        "plt.plot(val_loss)\n",
        "plt.legend(['loss', 'val_loss'])\n",
        "plt.show()"
      ],
      "execution_count": 50,
      "outputs": [
        {
          "output_type": "display_data",
          "data": {
            "image/png": "[encoded data removed]",
            "text/plain": [
              "<Figure size 432x288 with 1 Axes>"
            ]
          },
          "metadata": {
            "tags": []
          }
        }
      ]
    },
    {
      "cell_type": "code",
      "metadata": {
        "id": "-Vr1TmnWeq47",
        "colab_type": "code",
        "outputId": "7fa242cb-22d7-4b3f-ea73-fa5c07d18d65",
        "colab": {
          "base_uri": "https://localhost:8080/",
          "height": 34
        }
      },
      "source": [
        "#test the classifier\n",
        "X_testIM=X_test.reshape((-1,28,28,1))\n",
        "y_pred=classifier.predict(X_testIM)\n",
        "y_one_hot=np.zeros_like(y_pred)\n",
        "y_one_hot[np.arange(len(y_pred)),y_pred.argmax(1)]=1\n",
        "acc=accuracy_score(y_test, y_one_hot)\n",
        "print(acc)"
      ],
      "execution_count": 54,
      "outputs": [
        {
          "output_type": "stream",
          "text": [
            "0.8094\n"
          ],
          "name": "stdout"
        }
      ]
    },
    {
      "cell_type": "code",
      "metadata": {
        "id": "8feb0NXfIDds",
        "colab_type": "code",
        "colab": {
          "base_uri": "https://localhost:8080/",
          "height": 191
        },
        "outputId": "b5495788-fa0d-448e-ea57-ada0d0f482f7"
      },
      "source": [
        "from sklearn.metrics import confusion_matrix\n",
        "y_test1=y_test.argmax(1)\n",
        "y_one1=y_one_hot.argmax(1)\n",
        "ac=confusion_matrix(y_test1, y_one1)\n",
        "print(ac)"
      ],
      "execution_count": 53,
      "outputs": [
        {
          "output_type": "stream",
          "text": [
            "[[411   2   4  36   5   2  48   0   9   0]\n",
            " [  3 450   7  24   1   0   2   0   2   0]\n",
            " [  8   0 309   5  93   1  59   0  10   0]\n",
            " [ 17   6   3 423  20   0  30   0   1   0]\n",
            " [  0   0  53  25 391   1  50   0   3   0]\n",
            " [  0   0   0   0   0 420   0  30   2  17]\n",
            " [101   1  64  26  65   0 227   0  18   0]\n",
            " [  0   0   0   0   0  19   0 459   0  19]\n",
            " [  0   1   3   5   2   3   7   1 470   0]\n",
            " [  0   0   0   0   0   9   0  29   1 487]]\n"
          ],
          "name": "stdout"
        }
      ]
    }
  ]
}